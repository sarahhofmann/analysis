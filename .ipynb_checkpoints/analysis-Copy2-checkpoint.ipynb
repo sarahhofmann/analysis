{
 "cells": [
  {
   "cell_type": "code",
   "execution_count": 1,
   "metadata": {},
   "outputs": [],
   "source": [
    "import pandas as pd\n",
    "import numpy as np\n",
    "import matplotlib.pyplot as plt\n",
    "from mpl_toolkits.mplot3d import Axes3D\n",
    "from sklearn.cluster import KMeans\n",
    "from sklearn.datasets import make_blobs\n",
    "%matplotlib inline\n",
    "import seaborn as sns; sns.set()\n",
    "from sklearn.mixture import GMM\n",
    "from sklearn.metrics import accuracy_score"
   ]
  },
  {
   "cell_type": "code",
   "execution_count": 2,
   "metadata": {},
   "outputs": [],
   "source": [
    "data = pd.read_csv(\"data/zip.train\", header=None, sep=\" \")"
   ]
  },
  {
   "cell_type": "code",
   "execution_count": 3,
   "metadata": {},
   "outputs": [],
   "source": [
    "data_with_digit = data.iloc[:,:-1]\n",
    "data_without_digit = data_with_digit.iloc[:, 1:]"
   ]
  },
  {
   "cell_type": "code",
   "execution_count": 38,
   "metadata": {},
   "outputs": [],
   "source": [
    "np.random.seed(1)\n",
    "kmeans = KMeans(10, random_state=0)\n",
    "labels = kmeans.fit(data_without_digit).predict(data_without_digit)\n",
    "labels\n",
    "data_with_digit[\"cluster_nr\"] = labels"
   ]
  },
  {
   "cell_type": "code",
   "execution_count": 39,
   "metadata": {},
   "outputs": [],
   "source": [
    "label_digit_assignment = data_with_digit[[0, 'cluster_nr']]"
   ]
  },
  {
   "cell_type": "markdown",
   "metadata": {},
   "source": [
    "### calculate how often a cluster occurs for a digit"
   ]
  },
  {
   "cell_type": "code",
   "execution_count": 40,
   "metadata": {},
   "outputs": [],
   "source": [
    "def count_digits(n):\n",
    "    df = pd.DataFrame(data_with_digit[data_with_digit[0] == n])\n",
    "    data_cluster_nr = df[\"cluster_nr\"].value_counts()\n",
    "    data_cluster_nr = pd.DataFrame(data_cluster_nr)\n",
    "    data_cluster_nr.reset_index(level=0, inplace=True)\n",
    "    original_digit = len(data_cluster_nr)*[n]\n",
    "    data_cluster_nr[\"original dig\"] = original_digit\n",
    "    data_cluster_nr = data_cluster_nr[['original dig','index','cluster_nr']]\n",
    "    data_cluster_nr = data_cluster_nr.rename(columns={'index': 'cluster'})\n",
    "    return data_cluster_nr"
   ]
  },
  {
   "cell_type": "markdown",
   "metadata": {},
   "source": [
    "### calculate the % referred to its digit (not total digits)\n",
    "### calculate percentage by dividing the occurence of a digit in a cluster by the total number of this digit\n",
    "### and merge into one dataframe"
   ]
  },
  {
   "cell_type": "code",
   "execution_count": 41,
   "metadata": {},
   "outputs": [],
   "source": [
    "for n in range(0,10):\n",
    "    data_cluster_nr = count_digits(n)\n",
    "    sum_of = data_cluster_nr.sum()\n",
    "    sum_of_results = sum_of[\"cluster_nr\"]\n",
    "    percent = data_cluster_nr[\"cluster_nr\"]/sum_of_results*100\n",
    "    data_cluster_nr[\"% cluster in digit type\"] = percent\n",
    " \n",
    "    if n == 0:\n",
    "        df_counts = data_cluster_nr\n",
    "    else:\n",
    "        df_counts = pd.concat([df_counts, data_cluster_nr])\n",
    "        \n",
    "#df_counts = df_counts[['original dig','index','result']]"
   ]
  },
  {
   "cell_type": "markdown",
   "metadata": {},
   "source": [
    "### new dataframe with all %-values for graph"
   ]
  },
  {
   "cell_type": "code",
   "execution_count": 42,
   "metadata": {},
   "outputs": [],
   "source": [
    "def percentage(n):\n",
    "    data_cluster_nr = count_digits(n)\n",
    "    sum_of = data_cluster_nr.sum()\n",
    "    sum_of_results = sum_of[\"cluster_nr\"]\n",
    "    percent = data_cluster_nr[\"cluster_nr\"]/sum_of_results*100\n",
    "    data_cluster_nr[\"% cluster in digit:\" + str(n)] = percent\n",
    "    data_cluster_new = data_cluster_nr.drop(columns=['original dig', 'cluster_nr'])\n",
    "    data_cluster_new = data_cluster_new.sort_values(by=['cluster'])\n",
    "    data_cluster_new = data_cluster_new.set_index('cluster')\n",
    "    return data_cluster_new"
   ]
  },
  {
   "cell_type": "code",
   "execution_count": 43,
   "metadata": {},
   "outputs": [],
   "source": [
    "zero = percentage(0)\n",
    "one = percentage(1)\n",
    "two = percentage(2)\n",
    "three = percentage(3)\n",
    "four = percentage(4)\n",
    "five = percentage(5)\n",
    "six = percentage(6)\n",
    "seven = percentage(7)\n",
    "eight = percentage(8)\n",
    "nine = percentage(9)\n",
    "\n",
    "result_for_bar = pd.concat([zero, one, two, three, four, five, six, seven, eight, nine], axis=1, sort=False)\n",
    "result_for_bar = result_for_bar.fillna(0)\n",
    "result_for_bar_T = result_for_bar.T"
   ]
  },
  {
   "cell_type": "code",
   "execution_count": 44,
   "metadata": {},
   "outputs": [],
   "source": [
    "result_for_bar_T =result_for_bar_T.rename(index=str, columns={0: \"C0\", 1: \"C1\", 2: \"C2\", 3: \"C3\", 4: \"C4\", 5: \"C5\", 6: \"C6\", 7: \"C7\", 8: \"C8\", 9: \"C9\"})"
   ]
  },
  {
   "cell_type": "markdown",
   "metadata": {},
   "source": [
    "### blot"
   ]
  },
  {
   "cell_type": "code",
   "execution_count": 45,
   "metadata": {},
   "outputs": [
    {
     "data": {
      "text/plain": [
       "<matplotlib.legend.Legend at 0xb859240>"
      ]
     },
     "execution_count": 45,
     "metadata": {},
     "output_type": "execute_result"
    },
    {
     "data": {
      "image/png": "[encoded data removed]",
      "text/plain": [
       "<Figure size 1080x504 with 1 Axes>"
      ]
     },
     "metadata": {},
     "output_type": "display_data"
    }
   ],
   "source": [
    "result_for_bar_T.loc[:,:].plot.bar(stacked=True,color=sns.color_palette(\"hls\", 10), figsize=(15,7))\n",
    "\n",
    "# change the size of legend\n",
    "import pylab as plot\n",
    "params = {'legend.fontsize': 20,\n",
    "          'legend.handlelength': 2}\n",
    "plot.rcParams.update(params)\n",
    "\n",
    "#change legend position\n",
    "ax = plt.gca()\n",
    "plt.legend(bbox_to_anchor=(1, 1), bbox_transform=ax.transAxes)"
   ]
  },
  {
   "cell_type": "markdown",
   "metadata": {},
   "source": [
    "## calculate error rate - next two lines are not important"
   ]
  },
  {
   "cell_type": "code",
   "execution_count": 13,
   "metadata": {},
   "outputs": [],
   "source": [
    "df_error = pd.DataFrame(df_counts[df_counts[\"original dig\"] == 0])\n",
    "df_error = df_error.sort_values(by=['percent cluster in digit type'])"
   ]
  },
  {
   "cell_type": "raw",
   "metadata": {},
   "source": [
    "def error_calc(n):\n",
    "    df_error = pd.DataFrame(df_counts[df_counts[\"original dig\"] == n])\n",
    "    df_error = df_error.sort_values(by=['percent cluster in digit type'])\n",
    "    percentage_error = df_error.iloc[:-1, -1].sum()\n",
    "    return percentage_error"
   ]
  },
  {
   "cell_type": "markdown",
   "metadata": {},
   "source": [
    "### assign defined cluster for each digit"
   ]
  },
  {
   "cell_type": "markdown",
   "metadata": {},
   "source": [
    "#### defining the cluster a digit should be found in "
   ]
  },
  {
   "cell_type": "code",
   "execution_count": 46,
   "metadata": {},
   "outputs": [],
   "source": [
    "# here we create a dataframe with the occurence as % for each digit\n",
    "# this loop is also in the beginning of the notebook, but so far we didn't need it, but now\n",
    "# I made a copy and renamed some variables etc. \n",
    "\n",
    "for n in range(0,10):\n",
    "    data_cluster_nr = count_digits(n) # counts the how often a cluster appers for a digit\n",
    "    sum_of_counts = data_cluster_nr.sum() # sums the counts for a digit\n",
    "    sum_of_counts_total = sum_of_counts[\"cluster_nr\"] # takes only the column from the sum_of_\n",
    "    percent = data_cluster_nr[\"cluster_nr\"]/sum_of_counts_total*100 # calculates the % a cluster is found for a digit\n",
    "    data_cluster_nr[\"% cluster in digit type\"] = percent # creates a new column \n",
    " \n",
    "    if n == 0:\n",
    "        df_counts = data_cluster_nr\n",
    "    else:\n",
    "        df_counts = pd.concat([df_counts, data_cluster_nr]) # merges dataframes of all numbers together step by step\n"
   ]
  },
  {
   "cell_type": "code",
   "execution_count": 47,
   "metadata": {},
   "outputs": [],
   "source": [
    "# function to determine the most frequent cluster for a digit and return it in an array\n",
    "\n",
    "def most_frequent_cluster(n):\n",
    "    # take all values for a digit from df_counts created above and split it to df_cluster\n",
    "    df_cluster = pd.DataFrame(df_counts[df_counts[\"original dig\"] == n]) \n",
    "    # sort the dataframe from small to large by % a cluster appears for a digit\n",
    "    df_cluster_sorted = df_cluster.sort_values(by=['% cluster in digit type'])\n",
    "    # take only the last row of the % cluster in digit column because it is the most frequent\n",
    "    most_frequent = df_cluster_sorted.iloc[-1,:]\n",
    "    # extract only the most frequent cluster\n",
    "    most_frequent_cluster = most_frequent[1]\n",
    "    return most_frequent_cluster"
   ]
  },
  {
   "cell_type": "code",
   "execution_count": 48,
   "metadata": {},
   "outputs": [
    {
     "data": {
      "text/plain": [
       "array([5, 2, 6, 4, 1, 4, 0, 3, 9, 7])"
      ]
     },
     "execution_count": 48,
     "metadata": {},
     "output_type": "execute_result"
    }
   ],
   "source": [
    "# gets the most_frequent_cluster for each digit from 0-9 and merges them together in an array\n",
    "# thus position [0] in the array is the cluster the digit 0 is most likely referred to and so on\n",
    "\n",
    "for n in range(0,10):\n",
    "    frequent_cl = int(frequent_cluster(n))\n",
    "    if n == 0:\n",
    "        frequency = frequent_cl\n",
    "    else:\n",
    "        frequency = np.append(frequency, frequent_cl)\n",
    "frequency"
   ]
  },
  {
   "cell_type": "markdown",
   "metadata": {},
   "source": [
    "### assigning the supposed cluster"
   ]
  },
  {
   "cell_type": "code",
   "execution_count": 68,
   "metadata": {},
   "outputs": [],
   "source": [
    "# I copied this as well from above, but renamed the columns here\n",
    "# this creates a dataframe containing only the digit and cluster_nr\n",
    "label_digit_assignment = data_with_digit[[0, 'cluster_nr']]\n",
    "\n",
    "#rename column 0\n",
    "label_digit_assignment = label_digit_assignment.rename(columns={0: 'digit'})"
   ]
  },
  {
   "cell_type": "code",
   "execution_count": 64,
   "metadata": {},
   "outputs": [],
   "source": [
    "# here we create a new dataframe with the cluster we expect by using the array frequency we created above\n",
    "# the digit are exchanged by the supposed cluster\n",
    "df_supposed_cluster = pd.DataFrame(label_digit_assignment[\"digit\"].replace([0.0, 1.0, 2.0, 3.0, 4.0, 5.0, 6.0, 7.0, 8.0, 9.0], frequency))\n",
    "df_supposed_cluster.columns = ['supposed_cluster']\n",
    "df_supposed_cluster.head()\n",
    "\n",
    "# this returned a new dataframe with the supposed clusters \n",
    "# this dataframe has to be merged with the label_digit_assignment dataframe\n",
    "digit_supposed_cluster = pd.concat([label_digit_assignment, df_supposed_cluster], axis=1)"
   ]
  },
  {
   "cell_type": "code",
   "execution_count": 67,
   "metadata": {},
   "outputs": [
    {
     "data": {
      "text/html": [
       "<div>\n",
       "<style scoped>\n",
       "    .dataframe tbody tr th:only-of-type {\n",
       "        vertical-align: middle;\n",
       "    }\n",
       "\n",
       "    .dataframe tbody tr th {\n",
       "        vertical-align: top;\n",
       "    }\n",
       "\n",
       "    .dataframe thead th {\n",
       "        text-align: right;\n",
       "    }\n",
       "</style>\n",
       "<table border=\"1\" class=\"dataframe\">\n",
       "  <thead>\n",
       "    <tr style=\"text-align: right;\">\n",
       "      <th></th>\n",
       "      <th>digit</th>\n",
       "      <th>cluster_nr</th>\n",
       "      <th>supposed_cluster</th>\n",
       "    </tr>\n",
       "  </thead>\n",
       "  <tbody>\n",
       "    <tr>\n",
       "      <th>0</th>\n",
       "      <td>6.0</td>\n",
       "      <td>0</td>\n",
       "      <td>0.0</td>\n",
       "    </tr>\n",
       "    <tr>\n",
       "      <th>1</th>\n",
       "      <td>5.0</td>\n",
       "      <td>4</td>\n",
       "      <td>4.0</td>\n",
       "    </tr>\n",
       "    <tr>\n",
       "      <th>2</th>\n",
       "      <td>4.0</td>\n",
       "      <td>1</td>\n",
       "      <td>1.0</td>\n",
       "    </tr>\n",
       "    <tr>\n",
       "      <th>3</th>\n",
       "      <td>7.0</td>\n",
       "      <td>3</td>\n",
       "      <td>3.0</td>\n",
       "    </tr>\n",
       "    <tr>\n",
       "      <th>4</th>\n",
       "      <td>3.0</td>\n",
       "      <td>4</td>\n",
       "      <td>4.0</td>\n",
       "    </tr>\n",
       "  </tbody>\n",
       "</table>\n",
       "</div>"
      ],
      "text/plain": [
       "   digit  cluster_nr  supposed_cluster\n",
       "0    6.0           0               0.0\n",
       "1    5.0           4               4.0\n",
       "2    4.0           1               1.0\n",
       "3    7.0           3               3.0\n",
       "4    3.0           4               4.0"
      ]
     },
     "execution_count": 67,
     "metadata": {},
     "output_type": "execute_result"
    }
   ],
   "source": [
    "digit_supposed_cluster.head()"
   ]
  },
  {
   "cell_type": "markdown",
   "metadata": {},
   "source": [
    "### caclulate the accurace for the whole measurement"
   ]
  },
  {
   "cell_type": "code",
   "execution_count": 69,
   "metadata": {},
   "outputs": [
    {
     "name": "stdout",
     "output_type": "stream",
     "text": [
      "[0 4 1 ... 4 5 2]\n",
      "[0 4 1 ... 4 5 2]\n"
     ]
    }
   ],
   "source": [
    "# first the column of the dataframe need to be converted to arrays\n",
    "assigned_cluster_nr = np.array(digit_supposed_cluster['cluster_nr'])\n",
    "supposed_cluster_nr = np.array(digit_supposed_cluster['supposed_cluster'])\n",
    "\n",
    "# the supposed digit has to be transferred from float to integer\n",
    "supposed_cluster_nr = supposed_cluster_nr.astype(int)\n",
    "\n",
    "print(assigned_cluster_nr)\n",
    "print(supposed_cluster_nr)"
   ]
  },
  {
   "cell_type": "code",
   "execution_count": 78,
   "metadata": {},
   "outputs": [
    {
     "name": "stdout",
     "output_type": "stream",
     "text": [
      "5222\n",
      "0.7162254834727747\n"
     ]
    }
   ],
   "source": [
    "# calculate the accurance for the assignment\n",
    "acc = accuracy_score(supposed_cluster_nr, assigned_cluster_nr, normalize=False)\n",
    "acc_normalized = accuracy_score(supposed_cluster_nr, assigned_cluster_nr, normalize=True)\n",
    "\n",
    "print(acc)\n",
    "print(acc_normalized)"
   ]
  },
  {
   "cell_type": "code",
   "execution_count": 84,
   "metadata": {},
   "outputs": [],
   "source": [
    "# to check if the accuracy calculation worked we created a random array of 7291 digit from 0-9\n",
    "random = np.random.randint(10, size=7291)"
   ]
  },
  {
   "cell_type": "code",
   "execution_count": 85,
   "metadata": {},
   "outputs": [
    {
     "data": {
      "text/plain": [
       "741"
      ]
     },
     "execution_count": 85,
     "metadata": {},
     "output_type": "execute_result"
    }
   ],
   "source": [
    "accuracy_score(supposed_cluster_nr, random, normalize=False)"
   ]
  }
 ],
 "metadata": {
  "kernelspec": {
   "display_name": "Python 3",
   "language": "python",
   "name": "python3"
  },
  "language_info": {
   "codemirror_mode": {
    "name": "ipython",
    "version": 3
   },
   "file_extension": ".py",
   "mimetype": "text/x-python",
   "name": "python",
   "nbconvert_exporter": "python",
   "pygments_lexer": "ipython3",
   "version": "3.6.5"
  }
 },
 "nbformat": 4,
 "nbformat_minor": 2
}
