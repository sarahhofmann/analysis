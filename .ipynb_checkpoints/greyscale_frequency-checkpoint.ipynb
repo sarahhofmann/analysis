{
 "cells": [
  {
   "cell_type": "markdown",
   "metadata": {},
   "source": [
    "## Distribution pattern for most frequent value per pixel"
   ]
  },
  {
   "cell_type": "code",
   "execution_count": 1,
   "metadata": {},
   "outputs": [],
   "source": [
    "import pandas as pd\n",
    "import numpy as np\n",
    "import matplotlib.pyplot as plt\n",
    "import seaborn as sns"
   ]
  },
  {
   "cell_type": "markdown",
   "metadata": {},
   "source": [
    "#### load data"
   ]
  },
  {
   "cell_type": "code",
   "execution_count": 16,
   "metadata": {},
   "outputs": [],
   "source": [
    "data = pd.read_csv(\"data/zip.train\", header=None, sep=\" \")"
   ]
  },
  {
   "cell_type": "markdown",
   "metadata": {},
   "source": [
    "#### remove last row"
   ]
  },
  {
   "cell_type": "code",
   "execution_count": 17,
   "metadata": {},
   "outputs": [],
   "source": [
    "cleaned_data = data.iloc[:,:-1]"
   ]
  },
  {
   "cell_type": "markdown",
   "metadata": {},
   "source": [
    "#### add a header to data frame"
   ]
  },
  {
   "cell_type": "code",
   "execution_count": 20,
   "metadata": {},
   "outputs": [
    {
     "data": {
      "text/html": [
       "<div>\n",
       "<style scoped>\n",
       "    .dataframe tbody tr th:only-of-type {\n",
       "        vertical-align: middle;\n",
       "    }\n",
       "\n",
       "    .dataframe tbody tr th {\n",
       "        vertical-align: top;\n",
       "    }\n",
       "\n",
       "    .dataframe thead th {\n",
       "        text-align: right;\n",
       "    }\n",
       "</style>\n",
       "<table border=\"1\" class=\"dataframe\">\n",
       "  <thead>\n",
       "    <tr style=\"text-align: right;\">\n",
       "      <th></th>\n",
       "      <th>0</th>\n",
       "      <th>1</th>\n",
       "      <th>2</th>\n",
       "      <th>3</th>\n",
       "      <th>4</th>\n",
       "      <th>5</th>\n",
       "      <th>6</th>\n",
       "      <th>7</th>\n",
       "      <th>8</th>\n",
       "      <th>9</th>\n",
       "      <th>...</th>\n",
       "      <th>247</th>\n",
       "      <th>248</th>\n",
       "      <th>249</th>\n",
       "      <th>250</th>\n",
       "      <th>251</th>\n",
       "      <th>252</th>\n",
       "      <th>253</th>\n",
       "      <th>254</th>\n",
       "      <th>255</th>\n",
       "      <th>256</th>\n",
       "    </tr>\n",
       "  </thead>\n",
       "  <tbody>\n",
       "    <tr>\n",
       "      <th>0</th>\n",
       "      <td>6.0</td>\n",
       "      <td>-1.0</td>\n",
       "      <td>-1.0</td>\n",
       "      <td>-1.0</td>\n",
       "      <td>-1.000</td>\n",
       "      <td>-1.000</td>\n",
       "      <td>-1.000</td>\n",
       "      <td>-1.000</td>\n",
       "      <td>-0.631</td>\n",
       "      <td>0.862</td>\n",
       "      <td>...</td>\n",
       "      <td>0.304</td>\n",
       "      <td>0.823</td>\n",
       "      <td>1.000</td>\n",
       "      <td>0.482</td>\n",
       "      <td>-0.474</td>\n",
       "      <td>-0.991</td>\n",
       "      <td>-1.000</td>\n",
       "      <td>-1.000</td>\n",
       "      <td>-1.000</td>\n",
       "      <td>-1.0</td>\n",
       "    </tr>\n",
       "    <tr>\n",
       "      <th>1</th>\n",
       "      <td>5.0</td>\n",
       "      <td>-1.0</td>\n",
       "      <td>-1.0</td>\n",
       "      <td>-1.0</td>\n",
       "      <td>-0.813</td>\n",
       "      <td>-0.671</td>\n",
       "      <td>-0.809</td>\n",
       "      <td>-0.887</td>\n",
       "      <td>-0.671</td>\n",
       "      <td>-0.853</td>\n",
       "      <td>...</td>\n",
       "      <td>-0.671</td>\n",
       "      <td>-0.671</td>\n",
       "      <td>-0.033</td>\n",
       "      <td>0.761</td>\n",
       "      <td>0.762</td>\n",
       "      <td>0.126</td>\n",
       "      <td>-0.095</td>\n",
       "      <td>-0.671</td>\n",
       "      <td>-0.828</td>\n",
       "      <td>-1.0</td>\n",
       "    </tr>\n",
       "    <tr>\n",
       "      <th>2</th>\n",
       "      <td>4.0</td>\n",
       "      <td>-1.0</td>\n",
       "      <td>-1.0</td>\n",
       "      <td>-1.0</td>\n",
       "      <td>-1.000</td>\n",
       "      <td>-1.000</td>\n",
       "      <td>-1.000</td>\n",
       "      <td>-1.000</td>\n",
       "      <td>-1.000</td>\n",
       "      <td>-1.000</td>\n",
       "      <td>...</td>\n",
       "      <td>-1.000</td>\n",
       "      <td>-1.000</td>\n",
       "      <td>-1.000</td>\n",
       "      <td>-0.109</td>\n",
       "      <td>1.000</td>\n",
       "      <td>-0.179</td>\n",
       "      <td>-1.000</td>\n",
       "      <td>-1.000</td>\n",
       "      <td>-1.000</td>\n",
       "      <td>-1.0</td>\n",
       "    </tr>\n",
       "    <tr>\n",
       "      <th>3</th>\n",
       "      <td>7.0</td>\n",
       "      <td>-1.0</td>\n",
       "      <td>-1.0</td>\n",
       "      <td>-1.0</td>\n",
       "      <td>-1.000</td>\n",
       "      <td>-1.000</td>\n",
       "      <td>-0.273</td>\n",
       "      <td>0.684</td>\n",
       "      <td>0.960</td>\n",
       "      <td>0.450</td>\n",
       "      <td>...</td>\n",
       "      <td>-0.318</td>\n",
       "      <td>1.000</td>\n",
       "      <td>0.536</td>\n",
       "      <td>-0.987</td>\n",
       "      <td>-1.000</td>\n",
       "      <td>-1.000</td>\n",
       "      <td>-1.000</td>\n",
       "      <td>-1.000</td>\n",
       "      <td>-1.000</td>\n",
       "      <td>-1.0</td>\n",
       "    </tr>\n",
       "    <tr>\n",
       "      <th>4</th>\n",
       "      <td>3.0</td>\n",
       "      <td>-1.0</td>\n",
       "      <td>-1.0</td>\n",
       "      <td>-1.0</td>\n",
       "      <td>-1.000</td>\n",
       "      <td>-1.000</td>\n",
       "      <td>-0.928</td>\n",
       "      <td>-0.204</td>\n",
       "      <td>0.751</td>\n",
       "      <td>0.466</td>\n",
       "      <td>...</td>\n",
       "      <td>0.466</td>\n",
       "      <td>0.639</td>\n",
       "      <td>1.000</td>\n",
       "      <td>1.000</td>\n",
       "      <td>0.791</td>\n",
       "      <td>0.439</td>\n",
       "      <td>-0.199</td>\n",
       "      <td>-0.883</td>\n",
       "      <td>-1.000</td>\n",
       "      <td>-1.0</td>\n",
       "    </tr>\n",
       "  </tbody>\n",
       "</table>\n",
       "<p>5 rows × 257 columns</p>\n",
       "</div>"
      ],
      "text/plain": [
       "   0    1    2    3      4      5      6      7      8      9   ...     247  \\\n",
       "0  6.0 -1.0 -1.0 -1.0 -1.000 -1.000 -1.000 -1.000 -0.631  0.862 ...   0.304   \n",
       "1  5.0 -1.0 -1.0 -1.0 -0.813 -0.671 -0.809 -0.887 -0.671 -0.853 ...  -0.671   \n",
       "2  4.0 -1.0 -1.0 -1.0 -1.000 -1.000 -1.000 -1.000 -1.000 -1.000 ...  -1.000   \n",
       "3  7.0 -1.0 -1.0 -1.0 -1.000 -1.000 -0.273  0.684  0.960  0.450 ...  -0.318   \n",
       "4  3.0 -1.0 -1.0 -1.0 -1.000 -1.000 -0.928 -0.204  0.751  0.466 ...   0.466   \n",
       "\n",
       "     248    249    250    251    252    253    254    255  256  \n",
       "0  0.823  1.000  0.482 -0.474 -0.991 -1.000 -1.000 -1.000 -1.0  \n",
       "1 -0.671 -0.033  0.761  0.762  0.126 -0.095 -0.671 -0.828 -1.0  \n",
       "2 -1.000 -1.000 -0.109  1.000 -0.179 -1.000 -1.000 -1.000 -1.0  \n",
       "3  1.000  0.536 -0.987 -1.000 -1.000 -1.000 -1.000 -1.000 -1.0  \n",
       "4  0.639  1.000  1.000  0.791  0.439 -0.199 -0.883 -1.000 -1.0  \n",
       "\n",
       "[5 rows x 257 columns]"
      ]
     },
     "execution_count": 20,
     "metadata": {},
     "output_type": "execute_result"
    }
   ],
   "source": [
    "cleaned_data.head()"
   ]
  },
  {
   "cell_type": "markdown",
   "metadata": {},
   "source": [
    "## number 5 as an example"
   ]
  },
  {
   "cell_type": "markdown",
   "metadata": {},
   "source": [
    "#### takes only rows with 5.0 in first column"
   ]
  },
  {
   "cell_type": "code",
   "execution_count": 23,
   "metadata": {},
   "outputs": [],
   "source": [
    "number5 = pd.DataFrame(cleaned_data[cleaned_data[0] == 5.0])"
   ]
  },
  {
   "cell_type": "markdown",
   "metadata": {},
   "source": [
    "#### remove first column"
   ]
  },
  {
   "cell_type": "code",
   "execution_count": 24,
   "metadata": {},
   "outputs": [],
   "source": [
    "number5_cleaned = number5.iloc[:,1:]"
   ]
  },
  {
   "cell_type": "markdown",
   "metadata": {},
   "source": [
    "#### value_counts calculates the frequency of a greyscale value in each column (each column corresponds to a pixel)"
   ]
  },
  {
   "cell_type": "code",
   "execution_count": 25,
   "metadata": {},
   "outputs": [],
   "source": [
    "frequency=number5_cleaned.apply(pd.value_counts)"
   ]
  },
  {
   "cell_type": "markdown",
   "metadata": {},
   "source": [
    "#### normalizes the counts to the total number of samples (not so impotant here, but later when all numbers are compared)"
   ]
  },
  {
   "cell_type": "code",
   "execution_count": 26,
   "metadata": {},
   "outputs": [],
   "source": [
    "frequency = frequency / len(number5_cleaned)"
   ]
  },
  {
   "cell_type": "markdown",
   "metadata": {},
   "source": [
    "#### take only freqeuncy for first row, which is -1.000"
   ]
  },
  {
   "cell_type": "code",
   "execution_count": 27,
   "metadata": {
    "scrolled": true
   },
   "outputs": [],
   "source": [
    "frequency_1 = frequency.iloc[[0]]"
   ]
  },
  {
   "cell_type": "markdown",
   "metadata": {},
   "source": [
    "#### plot in a heatmap - 0 (black) refers to there is a value other than -1.000 while 1(bright) refers to a high frequence of -1.000 which is an empty spot on the letter image"
   ]
  },
  {
   "cell_type": "code",
   "execution_count": 33,
   "metadata": {},
   "outputs": [
    {
     "data": {
      "image/png": "[encoded data removed]",
      "text/plain": [
       "<Figure size 1440x72 with 2 Axes>"
      ]
     },
     "metadata": {},
     "output_type": "display_data"
    }
   ],
   "source": [
    "plt.subplots(figsize=(20, 1))\n",
    "sns.heatmap(frequency_1)\n",
    "plt.show()"
   ]
  },
  {
   "cell_type": "markdown",
   "metadata": {},
   "source": [
    "#### similar heatmap, but reshaped into a 16x16 image"
   ]
  },
  {
   "cell_type": "code",
   "execution_count": 20,
   "metadata": {},
   "outputs": [
    {
     "data": {
      "image/png": "[encoded data removed]",
      "text/plain": [
       "<Figure size 432x288 with 1 Axes>"
      ]
     },
     "metadata": {},
     "output_type": "display_data"
    }
   ],
   "source": [
    "plt.imshow(frequency_1.values.reshape(16,16), cmap='hot', interpolation='none')\n",
    "plt.show()"
   ]
  },
  {
   "cell_type": "markdown",
   "metadata": {},
   "source": [
    "## define greyscale frequency for each number"
   ]
  },
  {
   "cell_type": "markdown",
   "metadata": {},
   "source": [
    "#### creates a function to calculate the frequency of the greyscale values for each spot and each number and normalizes \n",
    "#### extracts only the first row for each number, corresponding to -1.000"
   ]
  },
  {
   "cell_type": "code",
   "execution_count": 15,
   "metadata": {},
   "outputs": [],
   "source": [
    "def frequency_greyscale(n):                                   ### n defines which number\n",
    "    number = pd.DataFrame(cleaned_data[cleaned_data[0] == n]) ### rows are selected for each number\n",
    "    number_cleaned = number.iloc[:,1:]                        ### remove first column which contains the number\n",
    "    frequency = number_cleaned.apply(pd.value_counts)         ### determines the frequency of each greyscale value at a certain pixel \n",
    "    frequency = frequency/len(number_cleaned)                 ### normaliaztion\n",
    "    frequency_1 = frequency.iloc[[0]]                         ### reduces datframe only to first row containing counts for -1.000\n",
    "    return frequency_1"
   ]
  },
  {
   "cell_type": "markdown",
   "metadata": {},
   "source": [
    "#### calculates frequency for all numbers and merge in data frame"
   ]
  },
  {
   "cell_type": "code",
   "execution_count": 16,
   "metadata": {},
   "outputs": [],
   "source": [
    "for i in range(0,10):\n",
    "    row = frequency_greyscale(i)\n",
    "    if i==0:\n",
    "        freq = row\n",
    "    else:\n",
    "        freq = pd.concat([freq, row])"
   ]
  },
  {
   "cell_type": "markdown",
   "metadata": {},
   "source": [
    "#### creates a dictionary to rename the rows (but did not work out so far -- next 5 lines)"
   ]
  },
  {
   "cell_type": "code",
   "execution_count": 13,
   "metadata": {},
   "outputs": [
    {
     "ename": "TypeError",
     "evalue": "unhashable type: 'list'",
     "output_type": "error",
     "traceback": [
      "\u001b[1;31m---------------------------------------------------------------------------\u001b[0m",
      "\u001b[1;31mTypeError\u001b[0m                                 Traceback (most recent call last)",
      "\u001b[1;32m<ipython-input-13-2ef872eb1ada>\u001b[0m in \u001b[0;36m<module>\u001b[1;34m()\u001b[0m\n\u001b[1;32m----> 1\u001b[1;33m \u001b[0mfreq\u001b[0m \u001b[1;33m=\u001b[0m \u001b[0mfreq\u001b[0m \u001b[1;33m=\u001b[0m \u001b[0mfreq\u001b[0m\u001b[1;33m.\u001b[0m\u001b[0mrename\u001b[0m\u001b[1;33m(\u001b[0m\u001b[1;33m{\u001b[0m\u001b[1;33m[\u001b[0m\u001b[1;36m0\u001b[0m\u001b[1;33m]\u001b[0m\u001b[1;33m:\u001b[0m\u001b[1;34m'zero'\u001b[0m\u001b[1;33m,\u001b[0m\u001b[1;33m[\u001b[0m\u001b[1;36m1\u001b[0m\u001b[1;33m]\u001b[0m\u001b[1;33m:\u001b[0m\u001b[1;34m'one'\u001b[0m\u001b[1;33m,\u001b[0m \u001b[1;36m2\u001b[0m\u001b[1;33m:\u001b[0m\u001b[1;34m'two'\u001b[0m\u001b[1;33m,\u001b[0m \u001b[1;36m3\u001b[0m\u001b[1;33m:\u001b[0m\u001b[1;34m'three'\u001b[0m\u001b[1;33m,\u001b[0m \u001b[1;36m4\u001b[0m\u001b[1;33m:\u001b[0m\u001b[1;34m'four'\u001b[0m\u001b[1;33m,\u001b[0m \u001b[1;36m5\u001b[0m\u001b[1;33m:\u001b[0m\u001b[1;34m'five'\u001b[0m\u001b[1;33m,\u001b[0m \u001b[1;36m6\u001b[0m\u001b[1;33m:\u001b[0m\u001b[1;34m'six'\u001b[0m\u001b[1;33m,\u001b[0m \u001b[1;36m7\u001b[0m\u001b[1;33m:\u001b[0m\u001b[1;34m'seven'\u001b[0m\u001b[1;33m,\u001b[0m \u001b[1;36m8\u001b[0m\u001b[1;33m:\u001b[0m\u001b[1;34m'eight'\u001b[0m\u001b[1;33m,\u001b[0m \u001b[1;36m9\u001b[0m\u001b[1;33m:\u001b[0m\u001b[1;34m'nine'\u001b[0m\u001b[1;33m}\u001b[0m\u001b[1;33m,\u001b[0m \u001b[0maxis\u001b[0m\u001b[1;33m=\u001b[0m\u001b[1;34m'index'\u001b[0m\u001b[1;33m)\u001b[0m\u001b[1;33m\u001b[0m\u001b[0m\n\u001b[0m",
      "\u001b[1;31mTypeError\u001b[0m: unhashable type: 'list'"
     ]
    }
   ],
   "source": [
    "freq = freq = freq.rename({[0]:'zero',[1]:'one', 2:'two', 3:'three', 4:'four', 5:'five', 6:'six', 7:'seven', 8:'eight', 9:'nine'}, axis='index')"
   ]
  },
  {
   "cell_type": "code",
   "execution_count": 18,
   "metadata": {},
   "outputs": [
    {
     "data": {
      "text/html": [
       "<div>\n",
       "<style scoped>\n",
       "    .dataframe tbody tr th:only-of-type {\n",
       "        vertical-align: middle;\n",
       "    }\n",
       "\n",
       "    .dataframe tbody tr th {\n",
       "        vertical-align: top;\n",
       "    }\n",
       "\n",
       "    .dataframe thead th {\n",
       "        text-align: right;\n",
       "    }\n",
       "</style>\n",
       "<table border=\"1\" class=\"dataframe\">\n",
       "  <thead>\n",
       "    <tr style=\"text-align: right;\">\n",
       "      <th></th>\n",
       "      <th>1</th>\n",
       "      <th>2</th>\n",
       "      <th>3</th>\n",
       "      <th>4</th>\n",
       "      <th>5</th>\n",
       "      <th>6</th>\n",
       "      <th>7</th>\n",
       "      <th>8</th>\n",
       "      <th>9</th>\n",
       "      <th>10</th>\n",
       "      <th>...</th>\n",
       "      <th>247</th>\n",
       "      <th>248</th>\n",
       "      <th>249</th>\n",
       "      <th>250</th>\n",
       "      <th>251</th>\n",
       "      <th>252</th>\n",
       "      <th>253</th>\n",
       "      <th>254</th>\n",
       "      <th>255</th>\n",
       "      <th>256</th>\n",
       "    </tr>\n",
       "  </thead>\n",
       "  <tbody>\n",
       "    <tr>\n",
       "      <th>-1.0</th>\n",
       "      <td>0.999162</td>\n",
       "      <td>0.994137</td>\n",
       "      <td>0.970687</td>\n",
       "      <td>0.902848</td>\n",
       "      <td>0.750419</td>\n",
       "      <td>0.429648</td>\n",
       "      <td>0.195980</td>\n",
       "      <td>0.131491</td>\n",
       "      <td>0.175879</td>\n",
       "      <td>0.311558</td>\n",
       "      <td>...</td>\n",
       "      <td>0.084590</td>\n",
       "      <td>0.080402</td>\n",
       "      <td>0.083752</td>\n",
       "      <td>0.108878</td>\n",
       "      <td>0.262982</td>\n",
       "      <td>0.603015</td>\n",
       "      <td>0.871022</td>\n",
       "      <td>0.980737</td>\n",
       "      <td>0.998325</td>\n",
       "      <td>1.000000</td>\n",
       "    </tr>\n",
       "    <tr>\n",
       "      <th>-1.0</th>\n",
       "      <td>1.000000</td>\n",
       "      <td>1.000000</td>\n",
       "      <td>1.000000</td>\n",
       "      <td>1.000000</td>\n",
       "      <td>0.999005</td>\n",
       "      <td>0.939303</td>\n",
       "      <td>0.330348</td>\n",
       "      <td>0.005970</td>\n",
       "      <td>0.012935</td>\n",
       "      <td>0.620896</td>\n",
       "      <td>...</td>\n",
       "      <td>0.461692</td>\n",
       "      <td>0.016915</td>\n",
       "      <td>0.003980</td>\n",
       "      <td>0.294527</td>\n",
       "      <td>0.882587</td>\n",
       "      <td>0.990050</td>\n",
       "      <td>0.999005</td>\n",
       "      <td>0.999005</td>\n",
       "      <td>1.000000</td>\n",
       "      <td>1.000000</td>\n",
       "    </tr>\n",
       "    <tr>\n",
       "      <th>-1.0</th>\n",
       "      <td>0.978112</td>\n",
       "      <td>0.934337</td>\n",
       "      <td>0.860465</td>\n",
       "      <td>0.730506</td>\n",
       "      <td>0.545828</td>\n",
       "      <td>0.413133</td>\n",
       "      <td>0.343365</td>\n",
       "      <td>0.357045</td>\n",
       "      <td>0.426813</td>\n",
       "      <td>0.554036</td>\n",
       "      <td>...</td>\n",
       "      <td>0.592339</td>\n",
       "      <td>0.666211</td>\n",
       "      <td>0.752394</td>\n",
       "      <td>0.804378</td>\n",
       "      <td>0.819425</td>\n",
       "      <td>0.753762</td>\n",
       "      <td>0.697674</td>\n",
       "      <td>0.700410</td>\n",
       "      <td>0.774282</td>\n",
       "      <td>0.874145</td>\n",
       "    </tr>\n",
       "    <tr>\n",
       "      <th>-1.0</th>\n",
       "      <td>0.990881</td>\n",
       "      <td>0.954407</td>\n",
       "      <td>0.848024</td>\n",
       "      <td>0.613982</td>\n",
       "      <td>0.392097</td>\n",
       "      <td>0.208207</td>\n",
       "      <td>0.112462</td>\n",
       "      <td>0.088146</td>\n",
       "      <td>0.088146</td>\n",
       "      <td>0.124620</td>\n",
       "      <td>...</td>\n",
       "      <td>0.071429</td>\n",
       "      <td>0.060790</td>\n",
       "      <td>0.089666</td>\n",
       "      <td>0.155015</td>\n",
       "      <td>0.308511</td>\n",
       "      <td>0.486322</td>\n",
       "      <td>0.709726</td>\n",
       "      <td>0.875380</td>\n",
       "      <td>0.958967</td>\n",
       "      <td>0.993921</td>\n",
       "    </tr>\n",
       "    <tr>\n",
       "      <th>-1.0</th>\n",
       "      <td>1.000000</td>\n",
       "      <td>0.996933</td>\n",
       "      <td>0.976994</td>\n",
       "      <td>0.924847</td>\n",
       "      <td>0.806748</td>\n",
       "      <td>0.753067</td>\n",
       "      <td>0.763804</td>\n",
       "      <td>0.808282</td>\n",
       "      <td>0.794479</td>\n",
       "      <td>0.659509</td>\n",
       "      <td>...</td>\n",
       "      <td>0.708589</td>\n",
       "      <td>0.496933</td>\n",
       "      <td>0.335890</td>\n",
       "      <td>0.430982</td>\n",
       "      <td>0.636503</td>\n",
       "      <td>0.817485</td>\n",
       "      <td>0.929448</td>\n",
       "      <td>0.973926</td>\n",
       "      <td>0.996933</td>\n",
       "      <td>0.998466</td>\n",
       "    </tr>\n",
       "    <tr>\n",
       "      <th>-1.0</th>\n",
       "      <td>0.998201</td>\n",
       "      <td>0.983813</td>\n",
       "      <td>0.946043</td>\n",
       "      <td>0.895683</td>\n",
       "      <td>0.809353</td>\n",
       "      <td>0.712230</td>\n",
       "      <td>0.571942</td>\n",
       "      <td>0.487410</td>\n",
       "      <td>0.345324</td>\n",
       "      <td>0.260791</td>\n",
       "      <td>...</td>\n",
       "      <td>0.170863</td>\n",
       "      <td>0.129496</td>\n",
       "      <td>0.118705</td>\n",
       "      <td>0.151079</td>\n",
       "      <td>0.253597</td>\n",
       "      <td>0.429856</td>\n",
       "      <td>0.667266</td>\n",
       "      <td>0.861511</td>\n",
       "      <td>0.953237</td>\n",
       "      <td>0.987410</td>\n",
       "    </tr>\n",
       "    <tr>\n",
       "      <th>-1.0</th>\n",
       "      <td>1.000000</td>\n",
       "      <td>1.000000</td>\n",
       "      <td>1.000000</td>\n",
       "      <td>0.998494</td>\n",
       "      <td>0.984940</td>\n",
       "      <td>0.930723</td>\n",
       "      <td>0.774096</td>\n",
       "      <td>0.424699</td>\n",
       "      <td>0.146084</td>\n",
       "      <td>0.228916</td>\n",
       "      <td>...</td>\n",
       "      <td>0.085843</td>\n",
       "      <td>0.085843</td>\n",
       "      <td>0.106928</td>\n",
       "      <td>0.192771</td>\n",
       "      <td>0.451807</td>\n",
       "      <td>0.740964</td>\n",
       "      <td>0.915663</td>\n",
       "      <td>0.986446</td>\n",
       "      <td>0.998494</td>\n",
       "      <td>1.000000</td>\n",
       "    </tr>\n",
       "    <tr>\n",
       "      <th>-1.0</th>\n",
       "      <td>0.941085</td>\n",
       "      <td>0.848062</td>\n",
       "      <td>0.722481</td>\n",
       "      <td>0.544186</td>\n",
       "      <td>0.406202</td>\n",
       "      <td>0.303876</td>\n",
       "      <td>0.269767</td>\n",
       "      <td>0.271318</td>\n",
       "      <td>0.251163</td>\n",
       "      <td>0.240310</td>\n",
       "      <td>...</td>\n",
       "      <td>0.297674</td>\n",
       "      <td>0.144186</td>\n",
       "      <td>0.268217</td>\n",
       "      <td>0.674419</td>\n",
       "      <td>0.947287</td>\n",
       "      <td>0.989147</td>\n",
       "      <td>0.998450</td>\n",
       "      <td>1.000000</td>\n",
       "      <td>1.000000</td>\n",
       "      <td>1.000000</td>\n",
       "    </tr>\n",
       "    <tr>\n",
       "      <th>-1.0</th>\n",
       "      <td>0.994465</td>\n",
       "      <td>0.966790</td>\n",
       "      <td>0.902214</td>\n",
       "      <td>0.752768</td>\n",
       "      <td>0.523985</td>\n",
       "      <td>0.278598</td>\n",
       "      <td>0.147601</td>\n",
       "      <td>0.095941</td>\n",
       "      <td>0.114391</td>\n",
       "      <td>0.197417</td>\n",
       "      <td>...</td>\n",
       "      <td>0.060886</td>\n",
       "      <td>0.007380</td>\n",
       "      <td>0.020295</td>\n",
       "      <td>0.071956</td>\n",
       "      <td>0.352399</td>\n",
       "      <td>0.739852</td>\n",
       "      <td>0.922509</td>\n",
       "      <td>0.987085</td>\n",
       "      <td>0.998155</td>\n",
       "      <td>1.000000</td>\n",
       "    </tr>\n",
       "    <tr>\n",
       "      <th>-1.0</th>\n",
       "      <td>0.998447</td>\n",
       "      <td>0.998447</td>\n",
       "      <td>0.989130</td>\n",
       "      <td>0.954969</td>\n",
       "      <td>0.841615</td>\n",
       "      <td>0.585404</td>\n",
       "      <td>0.215839</td>\n",
       "      <td>0.045031</td>\n",
       "      <td>0.013975</td>\n",
       "      <td>0.020186</td>\n",
       "      <td>...</td>\n",
       "      <td>0.487578</td>\n",
       "      <td>0.158385</td>\n",
       "      <td>0.147516</td>\n",
       "      <td>0.501553</td>\n",
       "      <td>0.813665</td>\n",
       "      <td>0.950311</td>\n",
       "      <td>0.982919</td>\n",
       "      <td>0.995342</td>\n",
       "      <td>0.998447</td>\n",
       "      <td>1.000000</td>\n",
       "    </tr>\n",
       "  </tbody>\n",
       "</table>\n",
       "<p>10 rows × 256 columns</p>\n",
       "</div>"
      ],
      "text/plain": [
       "           1         2         3         4         5         6         7    \\\n",
       "-1.0  0.999162  0.994137  0.970687  0.902848  0.750419  0.429648  0.195980   \n",
       "-1.0  1.000000  1.000000  1.000000  1.000000  0.999005  0.939303  0.330348   \n",
       "-1.0  0.978112  0.934337  0.860465  0.730506  0.545828  0.413133  0.343365   \n",
       "-1.0  0.990881  0.954407  0.848024  0.613982  0.392097  0.208207  0.112462   \n",
       "-1.0  1.000000  0.996933  0.976994  0.924847  0.806748  0.753067  0.763804   \n",
       "-1.0  0.998201  0.983813  0.946043  0.895683  0.809353  0.712230  0.571942   \n",
       "-1.0  1.000000  1.000000  1.000000  0.998494  0.984940  0.930723  0.774096   \n",
       "-1.0  0.941085  0.848062  0.722481  0.544186  0.406202  0.303876  0.269767   \n",
       "-1.0  0.994465  0.966790  0.902214  0.752768  0.523985  0.278598  0.147601   \n",
       "-1.0  0.998447  0.998447  0.989130  0.954969  0.841615  0.585404  0.215839   \n",
       "\n",
       "           8         9         10     ...          247       248       249  \\\n",
       "-1.0  0.131491  0.175879  0.311558    ...     0.084590  0.080402  0.083752   \n",
       "-1.0  0.005970  0.012935  0.620896    ...     0.461692  0.016915  0.003980   \n",
       "-1.0  0.357045  0.426813  0.554036    ...     0.592339  0.666211  0.752394   \n",
       "-1.0  0.088146  0.088146  0.124620    ...     0.071429  0.060790  0.089666   \n",
       "-1.0  0.808282  0.794479  0.659509    ...     0.708589  0.496933  0.335890   \n",
       "-1.0  0.487410  0.345324  0.260791    ...     0.170863  0.129496  0.118705   \n",
       "-1.0  0.424699  0.146084  0.228916    ...     0.085843  0.085843  0.106928   \n",
       "-1.0  0.271318  0.251163  0.240310    ...     0.297674  0.144186  0.268217   \n",
       "-1.0  0.095941  0.114391  0.197417    ...     0.060886  0.007380  0.020295   \n",
       "-1.0  0.045031  0.013975  0.020186    ...     0.487578  0.158385  0.147516   \n",
       "\n",
       "           250       251       252       253       254       255       256  \n",
       "-1.0  0.108878  0.262982  0.603015  0.871022  0.980737  0.998325  1.000000  \n",
       "-1.0  0.294527  0.882587  0.990050  0.999005  0.999005  1.000000  1.000000  \n",
       "-1.0  0.804378  0.819425  0.753762  0.697674  0.700410  0.774282  0.874145  \n",
       "-1.0  0.155015  0.308511  0.486322  0.709726  0.875380  0.958967  0.993921  \n",
       "-1.0  0.430982  0.636503  0.817485  0.929448  0.973926  0.996933  0.998466  \n",
       "-1.0  0.151079  0.253597  0.429856  0.667266  0.861511  0.953237  0.987410  \n",
       "-1.0  0.192771  0.451807  0.740964  0.915663  0.986446  0.998494  1.000000  \n",
       "-1.0  0.674419  0.947287  0.989147  0.998450  1.000000  1.000000  1.000000  \n",
       "-1.0  0.071956  0.352399  0.739852  0.922509  0.987085  0.998155  1.000000  \n",
       "-1.0  0.501553  0.813665  0.950311  0.982919  0.995342  0.998447  1.000000  \n",
       "\n",
       "[10 rows x 256 columns]"
      ]
     },
     "execution_count": 18,
     "metadata": {},
     "output_type": "execute_result"
    }
   ],
   "source": [
    "freq"
   ]
  },
  {
   "cell_type": "code",
   "execution_count": null,
   "metadata": {
    "scrolled": true
   },
   "outputs": [],
   "source": [
    "newcols = pd.DataFrame({\"index\":['zero', 'one','two','three', 'four', 'five', 'six', 'seven', 'eight', 'nine']})\n",
    "newcols"
   ]
  },
  {
   "cell_type": "code",
   "execution_count": null,
   "metadata": {},
   "outputs": [],
   "source": [
    "freq_index = pd.concat([newcols, freq], axis=1, join_axes=[freq.index])"
   ]
  },
  {
   "cell_type": "code",
   "execution_count": null,
   "metadata": {},
   "outputs": [],
   "source": [
    "freq_index"
   ]
  },
  {
   "cell_type": "markdown",
   "metadata": {},
   "source": [
    "#### heatmap of -1.000 frequency at a pixel for all numbers"
   ]
  },
  {
   "cell_type": "code",
   "execution_count": 17,
   "metadata": {},
   "outputs": [
    {
     "data": {
      "image/png": "[encoded data removed]",
      "text/plain": [
       "<Figure size 1440x720 with 2 Axes>"
      ]
     },
     "metadata": {},
     "output_type": "display_data"
    }
   ],
   "source": [
    "plt.subplots(figsize=(20, 10))\n",
    "sns.heatmap(freq)\n",
    "plt.show()"
   ]
  }
 ],
 "metadata": {
  "kernelspec": {
   "display_name": "Python 3",
   "language": "python",
   "name": "python3"
  },
  "language_info": {
   "codemirror_mode": {
    "name": "ipython",
    "version": 3
   },
   "file_extension": ".py",
   "mimetype": "text/x-python",
   "name": "python",
   "nbconvert_exporter": "python",
   "pygments_lexer": "ipython3",
   "version": "3.6.5"
  }
 },
 "nbformat": 4,
 "nbformat_minor": 2
}
