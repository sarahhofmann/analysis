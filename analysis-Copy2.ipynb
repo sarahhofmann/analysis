{
 "cells": [
  {
   "cell_type": "code",
   "execution_count": 1,
   "metadata": {},
   "outputs": [],
   "source": [
    "import pandas as pd\n",
    "import numpy as np\n",
    "import matplotlib.pyplot as plt\n",
    "from mpl_toolkits.mplot3d import Axes3D\n",
    "from sklearn.cluster import KMeans\n",
    "from sklearn.datasets import make_blobs\n",
    "%matplotlib inline\n",
    "import seaborn as sns; sns.set()\n",
    "from sklearn.mixture import GMM"
   ]
  },
  {
   "cell_type": "code",
   "execution_count": 2,
   "metadata": {},
   "outputs": [],
   "source": [
    "data = pd.read_csv(\"data/zip.train\", header=None, sep=\" \")"
   ]
  },
  {
   "cell_type": "code",
   "execution_count": 4,
   "metadata": {},
   "outputs": [],
   "source": [
    "data_with_digit = data.iloc[:,:-1]\n",
    "data_without_digit = data_with_digit.iloc[:, 1:]"
   ]
  },
  {
   "cell_type": "code",
   "execution_count": 5,
   "metadata": {},
   "outputs": [],
   "source": [
    "np.random.seed(1)\n",
    "kmeans = KMeans(10, random_state=0)\n",
    "labels = kmeans.fit(data_without_digit).predict(data_without_digit)\n",
    "labels\n",
    "data_with_digit[\"result\"] = labels"
   ]
  },
  {
   "cell_type": "code",
   "execution_count": 6,
   "metadata": {},
   "outputs": [],
   "source": [
    "label_digit_assignment = data_with_digit[[0, 'result']]"
   ]
  },
  {
   "cell_type": "markdown",
   "metadata": {},
   "source": [
    "### calculate how often a cluster occurs for a digit"
   ]
  },
  {
   "cell_type": "code",
   "execution_count": 7,
   "metadata": {},
   "outputs": [],
   "source": [
    "def count_digits(n):\n",
    "    df = pd.DataFrame(data_with_digit[data_with_digit[0] == n])\n",
    "    data_cluster_nr = df[\"result\"].value_counts()\n",
    "    data_cluster_nr = pd.DataFrame(data_cluster_nr)\n",
    "    data_cluster_nr.reset_index(level=0, inplace=True)\n",
    "    original_digit = len(data_cluster_nr)*[n]\n",
    "    data_cluster_nr[\"original dig\"] = original_digit\n",
    "    data_cluster_nr = data_cluster_nr[['original dig','index','result']]\n",
    "    data_cluster_nr = data_cluster_nr.rename(columns={'index': 'cluster'})\n",
    "    return data_cluster_nr"
   ]
  },
  {
   "cell_type": "markdown",
   "metadata": {},
   "source": [
    "### calculate the % referred to its digit (not total digits)\n",
    "### calculate percentage by dividing the occurence of a digit in a cluster by the total number of this digit\n",
    "### and merge into one dataframe"
   ]
  },
  {
   "cell_type": "code",
   "execution_count": 8,
   "metadata": {},
   "outputs": [],
   "source": [
    "for n in range(0,9):\n",
    "    data_cluster_nr = count_digits(n)\n",
    "    sum_of = data_cluster_nr.sum()\n",
    "    sum_of_results = sum_of[\"result\"]\n",
    "    percent = data_cluster_nr[\"result\"]/sum_of_results*100\n",
    "    data_cluster_nr[\"percent cluster in digit type\"] = percent\n",
    " \n",
    "    if n == 0:\n",
    "        df_counts = data_cluster_nr\n",
    "    else:\n",
    "        df_counts = pd.concat([df_counts, data_cluster_nr])\n",
    "        \n",
    "#df_counts = df_counts[['original dig','index','result']]"
   ]
  },
  {
   "cell_type": "markdown",
   "metadata": {},
   "source": [
    "### new dataframe with all %-values for graph"
   ]
  },
  {
   "cell_type": "code",
   "execution_count": 9,
   "metadata": {},
   "outputs": [],
   "source": [
    "def percentage(n):\n",
    "    data_cluster_nr = count_digits(n)\n",
    "    sum_of = data_cluster_nr.sum()\n",
    "    sum_of_results = sum_of[\"result\"]\n",
    "    percent = data_cluster_nr[\"result\"]/sum_of_results*100\n",
    "    data_cluster_nr[\"% cluster in digit:\" + str(n)] = percent\n",
    "    data_cluster_new = data_cluster_nr.drop(columns=['original dig', 'result'])\n",
    "    data_cluster_new = data_cluster_new.sort_values(by=['cluster'])\n",
    "    data_cluster_new = data_cluster_new.set_index('cluster')\n",
    "    return data_cluster_new"
   ]
  },
  {
   "cell_type": "code",
   "execution_count": 10,
   "metadata": {},
   "outputs": [],
   "source": [
    "zero = percentage(0)\n",
    "one = percentage(1)\n",
    "two = percentage(2)\n",
    "three = percentage(3)\n",
    "four = percentage(4)\n",
    "five = percentage(5)\n",
    "six = percentage(6)\n",
    "seven = percentage(7)\n",
    "eight = percentage(8)\n",
    "nine = percentage(9)\n",
    "\n",
    "result_for_bar = pd.concat([zero, one, two, three, four, five, six, seven, eight, nine], axis=1, sort=False)\n",
    "result_for_bar = result_for_bar.fillna(0)\n",
    "result_for_bar_T = result_for_bar.T"
   ]
  },
  {
   "cell_type": "markdown",
   "metadata": {},
   "source": [
    "### blot"
   ]
  },
  {
   "cell_type": "code",
   "execution_count": 11,
   "metadata": {},
   "outputs": [
    {
     "data": {
      "text/plain": [
       "<matplotlib.legend.Legend at 0xae4ab00>"
      ]
     },
     "execution_count": 11,
     "metadata": {},
     "output_type": "execute_result"
    },
    {
     "data": {
      "image/png": "[encoded data removed]",
      "text/plain": [
       "<Figure size 1080x504 with 1 Axes>"
      ]
     },
     "metadata": {},
     "output_type": "display_data"
    }
   ],
   "source": [
    "result_for_bar_T.loc[:,:].plot.bar(stacked=True,color=sns.color_palette(\"hls\", 10), figsize=(15,7))\n",
    "\n",
    "# change the size of legend\n",
    "import pylab as plot\n",
    "params = {'legend.fontsize': 20,\n",
    "          'legend.handlelength': 2}\n",
    "plot.rcParams.update(params)\n",
    "\n",
    "#change legend position\n",
    "ax = plt.gca()\n",
    "plt.legend(bbox_to_anchor=(1, 1), bbox_transform=ax.transAxes)"
   ]
  }
 ],
 "metadata": {
  "kernelspec": {
   "display_name": "Python 3",
   "language": "python",
   "name": "python3"
  },
  "language_info": {
   "codemirror_mode": {
    "name": "ipython",
    "version": 3
   },
   "file_extension": ".py",
   "mimetype": "text/x-python",
   "name": "python",
   "nbconvert_exporter": "python",
   "pygments_lexer": "ipython3",
   "version": "3.6.5"
  }
 },
 "nbformat": 4,
 "nbformat_minor": 2
}
