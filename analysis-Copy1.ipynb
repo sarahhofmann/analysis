{
 "cells": [
  {
   "cell_type": "code",
   "execution_count": 1,
   "metadata": {},
   "outputs": [],
   "source": [
    "import pandas as pd\n",
    "import numpy as np\n",
    "import matplotlib.pyplot as plt\n",
    "from mpl_toolkits.mplot3d import Axes3D\n",
    "from sklearn.cluster import KMeans\n",
    "from sklearn.datasets import make_blobs\n",
    "%matplotlib inline\n",
    "import matplotlib.pyplot as plt\n",
    "import seaborn as sns; sns.set()\n",
    "import numpy as np\n",
    "from sklearn.cluster import KMeans\n",
    "from sklearn.mixture import GMM"
   ]
  },
  {
   "cell_type": "code",
   "execution_count": 2,
   "metadata": {},
   "outputs": [],
   "source": [
    "data = pd.read_csv(\"data/zip.train\", header=None, sep=\" \")"
   ]
  },
  {
   "cell_type": "markdown",
   "metadata": {},
   "source": [
    "### example with only 2 numbers"
   ]
  },
  {
   "cell_type": "code",
   "execution_count": 6,
   "metadata": {},
   "outputs": [],
   "source": [
    "# Accepts a digit, returns a DataFrame where the first column corresponds to that digitdef is_num(num) :\n",
    "clean_data = data.dropna(axis=1, how='any',thresh=None)\n",
    "\n",
    "#Accepts a digit, returns a DataFrame containing all training values corresponding to that digitdef only_num(num) :\n",
    "def is_num(num) :\n",
    "    return pd.DataFrame(clean_data[clean_data[0]==num])\n",
    "\n",
    "def only_num(num) :\n",
    "    only_num_df = pd.DataFrame((is_num(num)).drop((is_num(num)).columns[[0]],axis=1))\n",
    "    return only_num_df"
   ]
  },
  {
   "cell_type": "code",
   "execution_count": 63,
   "metadata": {},
   "outputs": [],
   "source": [
    "data7_with_digit = is_num(7)\n",
    "data5_with_digit = is_num(5)\n",
    "data7 = only_num(7)\n",
    "data5 = only_num(5)\n",
    "\n",
    "data7_5 = pd.concat([data7, data5])\n",
    "data7_5_with_digit = pd.concat([data7_with_digit, data5_with_digit])"
   ]
  },
  {
   "cell_type": "code",
   "execution_count": 65,
   "metadata": {},
   "outputs": [],
   "source": [
    "kmeans = KMeans(2, random_state=0)\n",
    "labels = kmeans.fit(data7_5).predict(data7_5)\n",
    "labels\n",
    "data7_5_with_digit[\"result\"] = labels"
   ]
  },
  {
   "cell_type": "markdown",
   "metadata": {},
   "source": [
    "### whole data"
   ]
  },
  {
   "cell_type": "code",
   "execution_count": 3,
   "metadata": {},
   "outputs": [],
   "source": [
    "data_with_digit = data.iloc[:,:-1]\n",
    "data_without_digit = data_with_digit.iloc[:, 1:]"
   ]
  },
  {
   "cell_type": "code",
   "execution_count": 4,
   "metadata": {},
   "outputs": [],
   "source": [
    "np.random.seed(1)\n",
    "kmeans = KMeans(10, random_state=0)\n",
    "labels = kmeans.fit(data_without_digit).predict(data_without_digit)\n",
    "labels\n",
    "data_with_digit[\"result\"] = labels"
   ]
  },
  {
   "cell_type": "code",
   "execution_count": 5,
   "metadata": {},
   "outputs": [],
   "source": [
    "label_digit_assignment = data_with_digit[[0, 'result']]"
   ]
  },
  {
   "cell_type": "code",
   "execution_count": 6,
   "metadata": {},
   "outputs": [],
   "source": [
    "def count_digits(n):\n",
    "    df = pd.DataFrame(data_with_digit[data_with_digit[0] == n])\n",
    "    data_cluster_nr = df[\"result\"].value_counts()\n",
    "    data_cluster_nr = pd.DataFrame(data_cluster_nr)\n",
    "    data_cluster_nr.reset_index(level=0, inplace=True)\n",
    "    original_digit = len(data_cluster_nr)*[n]\n",
    "    data_cluster_nr[\"original dig\"] = original_digit\n",
    "    data_cluster_nr = data_cluster_nr[['original dig','index','result']]\n",
    "    return data_cluster_nr"
   ]
  },
  {
   "cell_type": "code",
   "execution_count": 85,
   "metadata": {},
   "outputs": [],
   "source": [
    "for n in range(0,9):\n",
    "    data_cluster_nr = count_digits(n)\n",
    "    \n",
    "    if n == 0:\n",
    "        df_counts = data_cluster_nr\n",
    "    else:\n",
    "        df_counts = pd.concat([df_counts, data_cluster_nr])\n",
    "        \n",
    "df_counts = df_counts[['original dig','index','result']]"
   ]
  },
  {
   "cell_type": "code",
   "execution_count": 9,
   "metadata": {},
   "outputs": [],
   "source": [
    "for n in range(0,9):\n",
    "    data_cluster_nr = count_digits(n)\n",
    "    sum_of = data_cluster_nr.sum()\n",
    "    sum_of_results = sum_of[\"result\"]\n",
    "    percent = data_cluster_nr[\"result\"]/sum_of_results*100\n",
    "    data_cluster_nr[\"percent of digit type\"] = percent\n",
    " \n",
    "    if n == 0:\n",
    "        df_counts = data_cluster_nr\n",
    "    else:\n",
    "        df_counts = pd.concat([df_counts, data_cluster_nr])\n",
    "        \n",
    "#df_counts = df_counts[['original dig','index','result']]"
   ]
  },
  {
   "cell_type": "code",
   "execution_count": 11,
   "metadata": {},
   "outputs": [
    {
     "data": {
      "text/html": [
       "<div>\n",
       "<style scoped>\n",
       "    .dataframe tbody tr th:only-of-type {\n",
       "        vertical-align: middle;\n",
       "    }\n",
       "\n",
       "    .dataframe tbody tr th {\n",
       "        vertical-align: top;\n",
       "    }\n",
       "\n",
       "    .dataframe thead th {\n",
       "        text-align: right;\n",
       "    }\n",
       "</style>\n",
       "<table border=\"1\" class=\"dataframe\">\n",
       "  <thead>\n",
       "    <tr style=\"text-align: right;\">\n",
       "      <th></th>\n",
       "      <th>original dig</th>\n",
       "      <th>index</th>\n",
       "      <th>result</th>\n",
       "      <th>percent of digit type</th>\n",
       "    </tr>\n",
       "  </thead>\n",
       "  <tbody>\n",
       "    <tr>\n",
       "      <th>0</th>\n",
       "      <td>0</td>\n",
       "      <td>5</td>\n",
       "      <td>524</td>\n",
       "      <td>43.886097</td>\n",
       "    </tr>\n",
       "    <tr>\n",
       "      <th>1</th>\n",
       "      <td>0</td>\n",
       "      <td>8</td>\n",
       "      <td>516</td>\n",
       "      <td>43.216080</td>\n",
       "    </tr>\n",
       "    <tr>\n",
       "      <th>2</th>\n",
       "      <td>0</td>\n",
       "      <td>0</td>\n",
       "      <td>115</td>\n",
       "      <td>9.631491</td>\n",
       "    </tr>\n",
       "    <tr>\n",
       "      <th>3</th>\n",
       "      <td>0</td>\n",
       "      <td>4</td>\n",
       "      <td>15</td>\n",
       "      <td>1.256281</td>\n",
       "    </tr>\n",
       "    <tr>\n",
       "      <th>4</th>\n",
       "      <td>0</td>\n",
       "      <td>1</td>\n",
       "      <td>11</td>\n",
       "      <td>0.921273</td>\n",
       "    </tr>\n",
       "    <tr>\n",
       "      <th>5</th>\n",
       "      <td>0</td>\n",
       "      <td>9</td>\n",
       "      <td>7</td>\n",
       "      <td>0.586265</td>\n",
       "    </tr>\n",
       "    <tr>\n",
       "      <th>6</th>\n",
       "      <td>0</td>\n",
       "      <td>6</td>\n",
       "      <td>6</td>\n",
       "      <td>0.502513</td>\n",
       "    </tr>\n",
       "    <tr>\n",
       "      <th>0</th>\n",
       "      <td>1</td>\n",
       "      <td>2</td>\n",
       "      <td>1001</td>\n",
       "      <td>99.601990</td>\n",
       "    </tr>\n",
       "    <tr>\n",
       "      <th>1</th>\n",
       "      <td>1</td>\n",
       "      <td>9</td>\n",
       "      <td>3</td>\n",
       "      <td>0.298507</td>\n",
       "    </tr>\n",
       "    <tr>\n",
       "      <th>2</th>\n",
       "      <td>1</td>\n",
       "      <td>7</td>\n",
       "      <td>1</td>\n",
       "      <td>0.099502</td>\n",
       "    </tr>\n",
       "    <tr>\n",
       "      <th>0</th>\n",
       "      <td>2</td>\n",
       "      <td>6</td>\n",
       "      <td>556</td>\n",
       "      <td>76.060192</td>\n",
       "    </tr>\n",
       "    <tr>\n",
       "      <th>1</th>\n",
       "      <td>2</td>\n",
       "      <td>9</td>\n",
       "      <td>47</td>\n",
       "      <td>6.429549</td>\n",
       "    </tr>\n",
       "    <tr>\n",
       "      <th>2</th>\n",
       "      <td>2</td>\n",
       "      <td>1</td>\n",
       "      <td>47</td>\n",
       "      <td>6.429549</td>\n",
       "    </tr>\n",
       "    <tr>\n",
       "      <th>3</th>\n",
       "      <td>2</td>\n",
       "      <td>4</td>\n",
       "      <td>34</td>\n",
       "      <td>4.651163</td>\n",
       "    </tr>\n",
       "    <tr>\n",
       "      <th>4</th>\n",
       "      <td>2</td>\n",
       "      <td>3</td>\n",
       "      <td>13</td>\n",
       "      <td>1.778386</td>\n",
       "    </tr>\n",
       "    <tr>\n",
       "      <th>5</th>\n",
       "      <td>2</td>\n",
       "      <td>8</td>\n",
       "      <td>12</td>\n",
       "      <td>1.641587</td>\n",
       "    </tr>\n",
       "    <tr>\n",
       "      <th>6</th>\n",
       "      <td>2</td>\n",
       "      <td>7</td>\n",
       "      <td>9</td>\n",
       "      <td>1.231190</td>\n",
       "    </tr>\n",
       "    <tr>\n",
       "      <th>7</th>\n",
       "      <td>2</td>\n",
       "      <td>0</td>\n",
       "      <td>7</td>\n",
       "      <td>0.957592</td>\n",
       "    </tr>\n",
       "    <tr>\n",
       "      <th>8</th>\n",
       "      <td>2</td>\n",
       "      <td>5</td>\n",
       "      <td>3</td>\n",
       "      <td>0.410397</td>\n",
       "    </tr>\n",
       "    <tr>\n",
       "      <th>9</th>\n",
       "      <td>2</td>\n",
       "      <td>2</td>\n",
       "      <td>3</td>\n",
       "      <td>0.410397</td>\n",
       "    </tr>\n",
       "    <tr>\n",
       "      <th>0</th>\n",
       "      <td>3</td>\n",
       "      <td>4</td>\n",
       "      <td>545</td>\n",
       "      <td>82.826748</td>\n",
       "    </tr>\n",
       "    <tr>\n",
       "      <th>1</th>\n",
       "      <td>3</td>\n",
       "      <td>9</td>\n",
       "      <td>73</td>\n",
       "      <td>11.094225</td>\n",
       "    </tr>\n",
       "    <tr>\n",
       "      <th>2</th>\n",
       "      <td>3</td>\n",
       "      <td>6</td>\n",
       "      <td>13</td>\n",
       "      <td>1.975684</td>\n",
       "    </tr>\n",
       "    <tr>\n",
       "      <th>3</th>\n",
       "      <td>3</td>\n",
       "      <td>7</td>\n",
       "      <td>11</td>\n",
       "      <td>1.671733</td>\n",
       "    </tr>\n",
       "    <tr>\n",
       "      <th>4</th>\n",
       "      <td>3</td>\n",
       "      <td>1</td>\n",
       "      <td>8</td>\n",
       "      <td>1.215805</td>\n",
       "    </tr>\n",
       "    <tr>\n",
       "      <th>5</th>\n",
       "      <td>3</td>\n",
       "      <td>5</td>\n",
       "      <td>2</td>\n",
       "      <td>0.303951</td>\n",
       "    </tr>\n",
       "    <tr>\n",
       "      <th>6</th>\n",
       "      <td>3</td>\n",
       "      <td>3</td>\n",
       "      <td>2</td>\n",
       "      <td>0.303951</td>\n",
       "    </tr>\n",
       "    <tr>\n",
       "      <th>7</th>\n",
       "      <td>3</td>\n",
       "      <td>0</td>\n",
       "      <td>2</td>\n",
       "      <td>0.303951</td>\n",
       "    </tr>\n",
       "    <tr>\n",
       "      <th>8</th>\n",
       "      <td>3</td>\n",
       "      <td>8</td>\n",
       "      <td>1</td>\n",
       "      <td>0.151976</td>\n",
       "    </tr>\n",
       "    <tr>\n",
       "      <th>9</th>\n",
       "      <td>3</td>\n",
       "      <td>2</td>\n",
       "      <td>1</td>\n",
       "      <td>0.151976</td>\n",
       "    </tr>\n",
       "    <tr>\n",
       "      <th>0</th>\n",
       "      <td>4</td>\n",
       "      <td>1</td>\n",
       "      <td>445</td>\n",
       "      <td>68.251534</td>\n",
       "    </tr>\n",
       "    <tr>\n",
       "      <th>1</th>\n",
       "      <td>4</td>\n",
       "      <td>7</td>\n",
       "      <td>137</td>\n",
       "      <td>21.012270</td>\n",
       "    </tr>\n",
       "    <tr>\n",
       "      <th>2</th>\n",
       "      <td>4</td>\n",
       "      <td>2</td>\n",
       "      <td>41</td>\n",
       "      <td>6.288344</td>\n",
       "    </tr>\n",
       "    <tr>\n",
       "      <th>3</th>\n",
       "      <td>4</td>\n",
       "      <td>6</td>\n",
       "      <td>12</td>\n",
       "      <td>1.840491</td>\n",
       "    </tr>\n",
       "    <tr>\n",
       "      <th>4</th>\n",
       "      <td>4</td>\n",
       "      <td>0</td>\n",
       "      <td>6</td>\n",
       "      <td>0.920245</td>\n",
       "    </tr>\n",
       "    <tr>\n",
       "      <th>5</th>\n",
       "      <td>4</td>\n",
       "      <td>9</td>\n",
       "      <td>5</td>\n",
       "      <td>0.766871</td>\n",
       "    </tr>\n",
       "    <tr>\n",
       "      <th>6</th>\n",
       "      <td>4</td>\n",
       "      <td>3</td>\n",
       "      <td>5</td>\n",
       "      <td>0.766871</td>\n",
       "    </tr>\n",
       "    <tr>\n",
       "      <th>7</th>\n",
       "      <td>4</td>\n",
       "      <td>8</td>\n",
       "      <td>1</td>\n",
       "      <td>0.153374</td>\n",
       "    </tr>\n",
       "    <tr>\n",
       "      <th>0</th>\n",
       "      <td>5</td>\n",
       "      <td>4</td>\n",
       "      <td>295</td>\n",
       "      <td>53.057554</td>\n",
       "    </tr>\n",
       "    <tr>\n",
       "      <th>1</th>\n",
       "      <td>5</td>\n",
       "      <td>0</td>\n",
       "      <td>109</td>\n",
       "      <td>19.604317</td>\n",
       "    </tr>\n",
       "  </tbody>\n",
       "</table>\n",
       "</div>"
      ],
      "text/plain": [
       "   original dig  index  result  percent of digit type\n",
       "0             0      5     524              43.886097\n",
       "1             0      8     516              43.216080\n",
       "2             0      0     115               9.631491\n",
       "3             0      4      15               1.256281\n",
       "4             0      1      11               0.921273\n",
       "5             0      9       7               0.586265\n",
       "6             0      6       6               0.502513\n",
       "0             1      2    1001              99.601990\n",
       "1             1      9       3               0.298507\n",
       "2             1      7       1               0.099502\n",
       "0             2      6     556              76.060192\n",
       "1             2      9      47               6.429549\n",
       "2             2      1      47               6.429549\n",
       "3             2      4      34               4.651163\n",
       "4             2      3      13               1.778386\n",
       "5             2      8      12               1.641587\n",
       "6             2      7       9               1.231190\n",
       "7             2      0       7               0.957592\n",
       "8             2      5       3               0.410397\n",
       "9             2      2       3               0.410397\n",
       "0             3      4     545              82.826748\n",
       "1             3      9      73              11.094225\n",
       "2             3      6      13               1.975684\n",
       "3             3      7      11               1.671733\n",
       "4             3      1       8               1.215805\n",
       "5             3      5       2               0.303951\n",
       "6             3      3       2               0.303951\n",
       "7             3      0       2               0.303951\n",
       "8             3      8       1               0.151976\n",
       "9             3      2       1               0.151976\n",
       "0             4      1     445              68.251534\n",
       "1             4      7     137              21.012270\n",
       "2             4      2      41               6.288344\n",
       "3             4      6      12               1.840491\n",
       "4             4      0       6               0.920245\n",
       "5             4      9       5               0.766871\n",
       "6             4      3       5               0.766871\n",
       "7             4      8       1               0.153374\n",
       "0             5      4     295              53.057554\n",
       "1             5      0     109              19.604317"
      ]
     },
     "execution_count": 11,
     "metadata": {},
     "output_type": "execute_result"
    }
   ],
   "source": [
    "df_counts.iloc[:40,]"
   ]
  },
  {
   "cell_type": "code",
   "execution_count": 68,
   "metadata": {},
   "outputs": [],
   "source": [
    "sum_of_0 = (df_counts[df_counts[\"original dig\"] == 0]).sum()\n",
    "sum_of_0\n",
    "\n",
    "for i in range(0,9):\n",
    "    data_cluster_nr = count_digits(n)\n",
    "    df_counts = (data_cluster_nr[data_cluster_nr[\"original dig\"] == 0]).sum()\n"
   ]
  },
  {
   "cell_type": "code",
   "execution_count": 101,
   "metadata": {},
   "outputs": [
    {
     "data": {
      "text/plain": [
       "1194.0"
      ]
     },
     "execution_count": 101,
     "metadata": {},
     "output_type": "execute_result"
    }
   ],
   "source": [
    "sum_of_0 = (df_counts[df_counts[\"original dig\"] == 0]).sum()\n",
    "df_counts_0 = sum_of_0[\"result\"]\n",
    "df_counts_0"
   ]
  },
  {
   "cell_type": "code",
   "execution_count": 103,
   "metadata": {},
   "outputs": [
    {
     "data": {
      "text/plain": [
       "0    43.886097\n",
       "1    43.216080\n",
       "2     9.631491\n",
       "3     1.256281\n",
       "4     0.921273\n",
       "5     0.586265\n",
       "6     0.502513\n",
       "Name: result, dtype: float64"
      ]
     },
     "execution_count": 103,
     "metadata": {},
     "output_type": "execute_result"
    }
   ],
   "source": [
    "dig_0[\"result\"]/df_counts_0*100"
   ]
  },
  {
   "cell_type": "code",
   "execution_count": 125,
   "metadata": {},
   "outputs": [
    {
     "data": {
      "text/html": [
       "<div>\n",
       "<style scoped>\n",
       "    .dataframe tbody tr th:only-of-type {\n",
       "        vertical-align: middle;\n",
       "    }\n",
       "\n",
       "    .dataframe tbody tr th {\n",
       "        vertical-align: top;\n",
       "    }\n",
       "\n",
       "    .dataframe thead th {\n",
       "        text-align: right;\n",
       "    }\n",
       "</style>\n",
       "<table border=\"1\" class=\"dataframe\">\n",
       "  <thead>\n",
       "    <tr style=\"text-align: right;\">\n",
       "      <th></th>\n",
       "      <th>original dig</th>\n",
       "      <th>index</th>\n",
       "      <th>result</th>\n",
       "    </tr>\n",
       "  </thead>\n",
       "  <tbody>\n",
       "    <tr>\n",
       "      <th>0</th>\n",
       "      <td>0</td>\n",
       "      <td>5</td>\n",
       "      <td>524</td>\n",
       "    </tr>\n",
       "    <tr>\n",
       "      <th>1</th>\n",
       "      <td>0</td>\n",
       "      <td>8</td>\n",
       "      <td>516</td>\n",
       "    </tr>\n",
       "    <tr>\n",
       "      <th>2</th>\n",
       "      <td>0</td>\n",
       "      <td>0</td>\n",
       "      <td>115</td>\n",
       "    </tr>\n",
       "    <tr>\n",
       "      <th>3</th>\n",
       "      <td>0</td>\n",
       "      <td>4</td>\n",
       "      <td>15</td>\n",
       "    </tr>\n",
       "    <tr>\n",
       "      <th>4</th>\n",
       "      <td>0</td>\n",
       "      <td>1</td>\n",
       "      <td>11</td>\n",
       "    </tr>\n",
       "    <tr>\n",
       "      <th>5</th>\n",
       "      <td>0</td>\n",
       "      <td>9</td>\n",
       "      <td>7</td>\n",
       "    </tr>\n",
       "    <tr>\n",
       "      <th>6</th>\n",
       "      <td>0</td>\n",
       "      <td>6</td>\n",
       "      <td>6</td>\n",
       "    </tr>\n",
       "  </tbody>\n",
       "</table>\n",
       "</div>"
      ],
      "text/plain": [
       "   original dig  index  result\n",
       "0             0      5     524\n",
       "1             0      8     516\n",
       "2             0      0     115\n",
       "3             0      4      15\n",
       "4             0      1      11\n",
       "5             0      9       7\n",
       "6             0      6       6"
      ]
     },
     "execution_count": 125,
     "metadata": {},
     "output_type": "execute_result"
    }
   ],
   "source": [
    "dig_0 = count_digits(0)\n",
    "dig_0"
   ]
  },
  {
   "cell_type": "code",
   "execution_count": 121,
   "metadata": {},
   "outputs": [
    {
     "data": {
      "text/plain": [
       "original dig       0\n",
       "index             33\n",
       "result          1194\n",
       "dtype: int64"
      ]
     },
     "execution_count": 121,
     "metadata": {},
     "output_type": "execute_result"
    }
   ],
   "source": [
    "sum_of_0 = dig_0.sum()\n",
    "sum_of_0"
   ]
  },
  {
   "cell_type": "code",
   "execution_count": 123,
   "metadata": {},
   "outputs": [],
   "source": [
    "sum_of_0_r = sum_of_0[\"result\"]"
   ]
  },
  {
   "cell_type": "code",
   "execution_count": 124,
   "metadata": {},
   "outputs": [
    {
     "data": {
      "text/plain": [
       "0    43.886097\n",
       "1    43.216080\n",
       "2     9.631491\n",
       "3     1.256281\n",
       "4     0.921273\n",
       "5     0.586265\n",
       "6     0.502513\n",
       "Name: result, dtype: float64"
      ]
     },
     "execution_count": 124,
     "metadata": {},
     "output_type": "execute_result"
    }
   ],
   "source": [
    "dig_0[\"result\"]/sum_of_0_r*100"
   ]
  },
  {
   "cell_type": "code",
   "execution_count": 82,
   "metadata": {},
   "outputs": [
    {
     "data": {
      "text/plain": [
       "0    43.886097\n",
       "1    43.216080\n",
       "2     9.631491\n",
       "3     1.256281\n",
       "4     0.921273\n",
       "5     0.586265\n",
       "6     0.502513\n",
       "Name: result, dtype: float64"
      ]
     },
     "execution_count": 82,
     "metadata": {},
     "output_type": "execute_result"
    }
   ],
   "source": [
    "df_counts_select = df_counts[df_counts[\"original dig\"] == 0]\n",
    "df_counts_select[\"result\"]/df_counts_0*100"
   ]
  },
  {
   "cell_type": "code",
   "execution_count": 37,
   "metadata": {},
   "outputs": [
    {
     "data": {
      "text/plain": [
       "(   index  result  original dig\n",
       " 0      5     524             0\n",
       " 1      8     516             0\n",
       " 2      0     115             0\n",
       " 3      4      15             0\n",
       " 4      1      11             0\n",
       " 5      9       7             0\n",
       " 6      6       6             0,    index  result  original dig\n",
       " 0      2    1001             1\n",
       " 1      9       3             1\n",
       " 2      7       1             1)"
      ]
     },
     "execution_count": 37,
     "metadata": {},
     "output_type": "execute_result"
    }
   ],
   "source": [
    "count_0 = count_digits(0)\n",
    "count_1 = count_digits(1)\n",
    "count_2"
   ]
  }
 ],
 "metadata": {
  "kernelspec": {
   "display_name": "Python 3",
   "language": "python",
   "name": "python3"
  },
  "language_info": {
   "codemirror_mode": {
    "name": "ipython",
    "version": 3
   },
   "file_extension": ".py",
   "mimetype": "text/x-python",
   "name": "python",
   "nbconvert_exporter": "python",
   "pygments_lexer": "ipython3",
   "version": "3.6.5"
  }
 },
 "nbformat": 4,
 "nbformat_minor": 2
}
